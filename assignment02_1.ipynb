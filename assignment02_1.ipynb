{
 "cells": [
  {
   "cell_type": "markdown",
   "metadata": {},
   "source": [
    "# Assignment 2.1 - Clustering"
   ]
  },
  {
   "cell_type": "markdown",
   "metadata": {},
   "source": [
    "Please submit your solution of this notebook in the Whiteboard at the corresponding Assignment entry as .ipynb-file and as .pdf. <br><br>\n",
    "Please do **NOT** rename the file!\n",
    "\n",
    "#### State both names of your group members here:\n",
    "[S M Shameem Ahmed Khan and Rashid Harvey]"
   ]
  },
  {
   "cell_type": "code",
   "execution_count": null,
   "metadata": {},
   "outputs": [],
   "source": []
  },
  {
   "cell_type": "markdown",
   "metadata": {},
   "source": [
    "## Grading Info/Details - Assignment 2.1:\n",
    "\n",
    "The assignment will be graded semi-automatically, which means that your code will be tested against a set of predefined test cases and qualitatively assessed by a human. This will speed up the grading process for us.\n",
    "\n",
    "* For passing the test scripts: \n",
    "    - Please make sure to **NOT** alter predefined class or function names, as this would lead to failing of the test scripts.\n",
    "    - Please do **NOT** rename the files before uploading to the Whiteboard!\n",
    "\n",
    "* **(RESULT)** tags indicate checkpoints that will be specifically assessed by a human.\n",
    "\n",
    "* You will pass the assignment if you pass the majority of test cases and we can at least confirm effort regarding the **(RESULT)**-tagged checkpoints per task."
   ]
  },
  {
   "cell_type": "code",
   "execution_count": null,
   "metadata": {},
   "outputs": [],
   "source": []
  },
  {
   "cell_type": "markdown",
   "metadata": {},
   "source": [
    "## Task 2.1.1 - kMeans\n",
    "\n",
    "kMeans is an unsupervised learning algorithm that partitions n observations into k clusters. Each observation belongs to the cluster with the nearest mean (cluster center or centroid).\n",
    "\n",
    "\n",
    "### 1. kMeans Implementation\n",
    "* Implement the kMeans clustering algorithm using `numpy` only. Use the `KMeans` class structure below. **(RESULT)**\n",
    "* Test the convergence of your implementation by creating a 2D synthetic dataset yourself. Report on the convergence. **(RESULT)**"
   ]
  },
  {
   "cell_type": "code",
   "execution_count": 87,
   "metadata": {},
   "outputs": [],
   "source": [
    "import numpy as np\n",
    "import matplotlib.pyplot as plt"
   ]
  },
  {
   "cell_type": "code",
   "execution_count": 88,
   "metadata": {},
   "outputs": [],
   "source": [
    "# inpired by https://medium.com/@juanc.olamendy/back-to-basics-mastering-k-means-clustering-with-numpy-ae7e6f1cb9a3\n",
    "class KMeans:\n",
    "    def __init__(self, k=3, max_iters=100, tol=1e-4, random_state=None):\n",
    "        \"\"\"\n",
    "        Initialize KMeans clusterer.\n",
    "        \n",
    "        Parameters:\n",
    "        -----------\n",
    "        k : int\n",
    "            Number of clusters\n",
    "        max_iters : int\n",
    "            Maximum number of iterations\n",
    "        tol : float\n",
    "            Tolerance for convergence (change in centroids)\n",
    "        random_state : int or None\n",
    "            Random seed for reproducibility\n",
    "        \"\"\"\n",
    "        self.k = k\n",
    "        self.max_iters = max_iters\n",
    "        self.tol = tol\n",
    "        self.random_state = random_state\n",
    "        self.labels_ = None\n",
    "        self.report_convergence = False\n",
    "    \n",
    "    def initialize_centroids(self, X):\n",
    "        \"\"\"\n",
    "        Initialize cluster centers using random selection from data points.\n",
    "        \"\"\"\n",
    "        idx = np.random.choice(len(X), self.k, replace=False)\n",
    "        self.centroids = X[idx]\n",
    "    \n",
    "    def initialize_centroids_plusplus(self, X): # for the following Subtask\n",
    "        best_centroids = None\n",
    "        best_loss = float(\"inf\")\n",
    "\n",
    "        tries = 10\n",
    "\n",
    "        for t in range(tries):\n",
    "            self.initialize_centroids(X)\n",
    "            centroids = self.centroids\n",
    "\n",
    "            # # compute loss = sum squared distance from each point to nearest centroid\n",
    "            # diff_all = X[:, None, :] - centroids[None, :, :]\n",
    "            # dists2 = np.sum(diff_all, axis=2)\n",
    "            # min_dists2 = np.min(dists2, axis=1)\n",
    "            # loss = np.sum(min_dists2)\n",
    "\n",
    "            loss = self._calculate_loss(X)\n",
    "\n",
    "            if loss < best_loss:\n",
    "                best_loss = loss\n",
    "                best_centroids = centroids.copy()\n",
    "\n",
    "        self.centroids = best_centroids\n",
    "    \n",
    "    def fit(self, X):\n",
    "        \"\"\"\n",
    "        Fit the KMeans model to data X.\n",
    "        \"\"\"\n",
    "        if self.random_state is not None:\n",
    "            np.random.seed(self.random_state)\n",
    "            \n",
    "        for i in range(self.max_iters):\n",
    "            distances = self._calculate_distances(X)\n",
    "            labels = np.argmin(distances, axis=0)\n",
    "\n",
    "            new_centroids = np.array([\n",
    "                X[labels == i].mean(axis=0)\n",
    "                for i in range(self.k)\n",
    "            ])\n",
    "\n",
    "            if all(\n",
    "                np.linalg.norm(self.centroids[i] - new_centroids[i]) < self.tol\n",
    "                for i in range(self.k)\n",
    "            ): \n",
    "                if self.report_convergence:\n",
    "                    print(\"Convergence:\", i)\n",
    "                break\n",
    "\n",
    "            self.centroids = new_centroids\n",
    "\n",
    "        self.labels_ = labels\n",
    "    \n",
    "    def predict(self, X):\n",
    "        \"\"\"\n",
    "        Predict cluster labels for new data.\n",
    "        \"\"\"\n",
    "        distances = self._calculate_distances(X)\n",
    "        return np.argmin(distances, axis=0)\n",
    "    \n",
    "    def fit_predict(self, X):\n",
    "        \"\"\"\n",
    "        Perform KMeans clustering and return cluster labels.\n",
    "        \"\"\"\n",
    "        self.fit(X)\n",
    "        return self.labels_\n",
    "    \n",
    "    def _calculate_distances(self, X):\n",
    "        n = len(X)\n",
    "        distances = np.zeros((self.k, n))\n",
    "\n",
    "        for i in range(n):\n",
    "            diff = self.centroids - X[i]\n",
    "            distances[:, i] = np.linalg.norm(diff, axis=1)\n",
    "\n",
    "        return distances\n",
    "\n",
    "    def _calculate_loss(self, X):\n",
    "        distances = self._calculate_distances(X)\n",
    "\n",
    "        return np.sum(\n",
    "            np.min(distances, axis=0)\n",
    "        )"
   ]
  },
  {
   "cell_type": "code",
   "execution_count": 89,
   "metadata": {},
   "outputs": [
    {
     "name": "stdout",
     "output_type": "stream",
     "text": [
      "Convergence: 1\n"
     ]
    }
   ],
   "source": [
    "n = 10\n",
    "data_range = 100\n",
    "\n",
    "dataset = []\n",
    "\n",
    "for _ in range(n):\n",
    "    dataset.append(\n",
    "        [np.random.randint(0, data_range), np.random.randint(0, data_range)]\n",
    "    )\n",
    "\n",
    "dataset = np.array(dataset)\n",
    "\n",
    "kmeans = KMeans()\n",
    "\n",
    "kmeans.report_convergence = True\n",
    "\n",
    "kmeans.initialize_centroids(dataset)\n",
    "kmeans.fit(dataset)"
   ]
  },
  {
   "cell_type": "markdown",
   "metadata": {},
   "source": [
    "### 2. kMeans++ initialization\n",
    "\n",
    "* Implement the kMeans++ initialization method in the KMeans class. **(RESULT)**\n",
    "* Compare the convergence speed of kMeans with random initialization and kMeans++ initialization on your synthetic dataset from Part 1. **(RESULT)**"
   ]
  },
  {
   "cell_type": "code",
   "execution_count": 90,
   "metadata": {},
   "outputs": [
    {
     "name": "stdout",
     "output_type": "stream",
     "text": [
      "Normal init\n",
      "Convergence: 1\n",
      "init ++\n",
      "Convergence: 2\n"
     ]
    }
   ],
   "source": [
    "\n",
    "print(\"Normal init\")\n",
    "\n",
    "kmeans = KMeans()\n",
    "\n",
    "kmeans.report_convergence = True\n",
    "\n",
    "kmeans.initialize_centroids(dataset)\n",
    "kmeans.fit(dataset)\n",
    "\n",
    "print(\"init ++\")\n",
    "kmeans_plus = KMeans()\n",
    "\n",
    "kmeans.report_convergence = True\n",
    "\n",
    "kmeans.initialize_centroids_plusplus(dataset)\n",
    "kmeans.fit(dataset)"
   ]
  },
  {
   "cell_type": "markdown",
   "metadata": {},
   "source": [
    "### 3. Visualization of Cluster Quality\n",
    "\n",
    "\n",
    "* Visualize the clustering results of your kMeans implementation on a synthetic 2D dataset with at least 4 clusters using matplotlib. **(RESULT)**\n",
    "* Determine the optimal number of clusters using the elbow method. Report on your findings using a simple plot. **(RESULT)**\n",
    "* Report on the silhouette score of your clustering results for the optimal k and k-1. **(RESULT)**"
   ]
  },
  {
   "cell_type": "code",
   "execution_count": 96,
   "metadata": {},
   "outputs": [
    {
     "data": {
      "image/png": "[encoded data removed]",
      "text/plain": [
       "<Figure size 700x600 with 1 Axes>"
      ]
     },
     "metadata": {},
     "output_type": "display_data"
    }
   ],
   "source": [
    "# Visualization helper for a given dataset and a fitted KMeans object\n",
    "def visualize_kmeans(X, kmeans, title=\"kmeans viz\", show_centroids=True, cmap='tab10'):\n",
    "\n",
    "    labels = kmeans.labels_\n",
    "\n",
    "    plt.figure(figsize=(7, 6))\n",
    "    plt.scatter(X[:, 0], X[:, 1], c=labels, cmap=cmap, s=30, alpha=0.85)\n",
    "\n",
    "    if show_centroids and hasattr(kmeans, 'centroids') and kmeans.centroids is not None:\n",
    "        cent = np.asarray(kmeans.centroids)\n",
    "        if cent.size and cent.shape[1] == 2:\n",
    "            # Color centroids to match cluster colors by giving them the same label indices\n",
    "            centroid_labels = np.arange(len(cent))\n",
    "            plt.scatter(\n",
    "                cent[:, 0], cent[:, 1],\n",
    "                c=centroid_labels,\n",
    "                cmap=cmap,\n",
    "                s=200,\n",
    "                marker='X',\n",
    "                edgecolors='k',\n",
    "                linewidths=1.2,\n",
    "                label='centroids'\n",
    "            )\n",
    "\n",
    "    plt.title(title)\n",
    "    plt.xlabel('x1')\n",
    "    plt.ylabel('x2')\n",
    "    plt.grid(alpha=0.25)\n",
    "    plt.show()\n",
    "\n",
    "n = 100\n",
    "data_range = 10\n",
    "\n",
    "dataset = []\n",
    "\n",
    "for _ in range(n):\n",
    "    dataset.append(\n",
    "        [np.random.randint(0, data_range), np.random.randint(0, data_range)]\n",
    "    )\n",
    "\n",
    "dataset = np.array(dataset)\n",
    "\n",
    "kmeans = KMeans(k=4)\n",
    "\n",
    "kmeans.initialize_centroids_plusplus(dataset)\n",
    "kmeans.fit(dataset)\n",
    "\n",
    "visualize_kmeans(dataset, kmeans)"
   ]
  },
  {
   "cell_type": "code",
   "execution_count": 106,
   "metadata": {},
   "outputs": [
    {
     "data": {
      "image/png": "[encoded data removed]",
      "text/plain": [
       "<Figure size 640x480 with 1 Axes>"
      ]
     },
     "metadata": {},
     "output_type": "display_data"
    },
    {
     "name": "stdout",
     "output_type": "stream",
     "text": [
      "Silhouette score k: 0.332948915677379\n",
      "Silhouette score k-1: 0.38711556075873765\n"
     ]
    }
   ],
   "source": [
    "# Elbow method\n",
    "\n",
    "INITIAL_K = 3\n",
    "\n",
    "k = INITIAL_K\n",
    "losses = []\n",
    "labels = []\n",
    "\n",
    "while True:\n",
    "    kmeans = KMeans(k=k)\n",
    "\n",
    "    kmeans.initialize_centroids_plusplus(dataset)\n",
    "    kmeans.fit(dataset)\n",
    "\n",
    "    loss = kmeans._calculate_loss(dataset)\n",
    "    \n",
    "    if losses and (previous_loss:=losses[-1]-loss < kmeans.tol):\n",
    "        losses.append(loss)\n",
    "        break\n",
    "\n",
    "    losses.append(loss)\n",
    "    labels.append(kmeans.labels_)\n",
    "    k += 1\n",
    "\n",
    "# TODO: Report with a simple graph of loss over k\n",
    "import matplotlib.pyplot as plt\n",
    "plt.plot(range(INITIAL_K, INITIAL_K + len(losses)), losses, marker='o')\n",
    "plt.xlabel('Number of clusters (k)')\n",
    "plt.ylabel('Loss (Sum of squared distances)')\n",
    "plt.title('Elbow Method for Optimal k')\n",
    "plt.show()\n",
    "\n",
    "# silhoute score for k and k-1\n",
    "from sklearn.metrics import silhouette_score\n",
    "if hasattr(kmeans, 'labels_'):\n",
    "    print('Silhouette score k:', silhouette_score(dataset, kmeans.labels_))\n",
    "    print('Silhouette score k-1:', silhouette_score(dataset, labels[-1]))\n",
    "\n"
   ]
  },
  {
   "cell_type": "markdown",
   "metadata": {},
   "source": [
    "## Task 2.1.2 - DBSCAN (BONUS)\n",
    "\n",
    "DBSCAN is a density-based clustering algorithm that groups together points that are closely packed together, marking outliers points that lie alone in low-density regions.\n",
    "\n",
    "* Implement the DBSCAN algorithm using `numpy` only. Use the `DBSCAN` class structure below. **(RESULT)**\n",
    "* Test your DBSCAN implementation on a synthetic 2D dataset with noise. Visualize the clustering results using matplotlib. **(RESULT)**\n",
    "* Compare the performance of your DBSCAN implementation with your kMeans implementation on the same synthetic 2D dataset using silhouette score as a metric. Please use the same random seed to make it comparable. **(RESULT)**\n"
   ]
  },
  {
   "cell_type": "code",
   "execution_count": 92,
   "metadata": {},
   "outputs": [],
   "source": [
    "from collections import deque   # Useful for efficient BFS implementation for finding neighbors\n",
    "\n",
    "class DBSCAN:\n",
    "    def __init__(self, eps=0.5, min_samples=5, metric='euclidean'):\n",
    "        \"\"\"\n",
    "        Parameters:\n",
    "        -----------\n",
    "        eps : float\n",
    "            Maximum distance between two samples for them to be considered neighbors\n",
    "        min_samples : int\n",
    "            Number of samples in a neighborhood for a point to be considered a core point\n",
    "            (including the point itself)\n",
    "        metric : str\n",
    "            Distance metric to use ('euclidean' or 'manhattan')\n",
    "        \"\"\"\n",
    "        self.eps = eps\n",
    "        self.min_samples = min_samples\n",
    "        self.metric = metric\n",
    "        self.labels_ = None\n",
    "        self.core_sample_indices_ = None\n",
    "        self.components_ = None\n",
    "        self.n_clusters_ = None\n",
    "        self.n_noise_ = None\n",
    "    \n",
    "    def fit(self, X):\n",
    "        \"\"\"\n",
    "        Perform DBSCAN clustering.\n",
    "        \"\"\"\n",
    "        # TODO: Implement this function\n",
    "        pass\n",
    "    \n",
    "    def predict(self, X_new):\n",
    "        \"\"\"\n",
    "        Predict the closest cluster for new points.\n",
    "        Note: New points can only be assigned to existing clusters or marked as noise.\n",
    "        \"\"\"\n",
    "        # TODO: Implement this function\n",
    "        pass\n",
    "    \n",
    "    def fit_predict(self, X):\n",
    "        \"\"\"\n",
    "        Perform DBSCAN clustering and return cluster labels.\n",
    "        \n",
    "        \"\"\"\n",
    "        self.fit(X)\n",
    "        return self.labels_"
   ]
  },
  {
   "cell_type": "code",
   "execution_count": null,
   "metadata": {},
   "outputs": [],
   "source": []
  },
  {
   "cell_type": "markdown",
   "metadata": {
    "collapsed": false,
    "jupyter": {
     "outputs_hidden": false
    },
    "pycharm": {
     "name": "#%% md\n"
    }
   },
   "source": [
    "## Congratz, you made it! :)"
   ]
  },
  {
   "cell_type": "markdown",
   "metadata": {},
   "source": []
  }
 ],
 "metadata": {
  "kernelspec": {
   "display_name": ".venv (3.13.5)",
   "language": "python",
   "name": "python3"
  },
  "language_info": {
   "codemirror_mode": {
    "name": "ipython",
    "version": 3
   },
   "file_extension": ".py",
   "mimetype": "text/x-python",
   "name": "python",
   "nbconvert_exporter": "python",
   "pygments_lexer": "ipython3",
   "version": "3.13.5"
  }
 },
 "nbformat": 4,
 "nbformat_minor": 4
}
